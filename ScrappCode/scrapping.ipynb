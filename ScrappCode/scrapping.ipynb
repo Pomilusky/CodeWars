{
 "cells": [
  {
   "cell_type": "markdown",
   "metadata": {},
   "source": [
    "This code is meant to scrapp and save all the katas I solved with python language. \n",
    "\n",
    "I, Marc Nosàs, created it at 04/04/2022, if there are any doubts about it I will be more than happy to solve them at marcnosas@hotmail.com"
   ]
  },
  {
   "cell_type": "code",
   "execution_count": 4,
   "metadata": {},
   "outputs": [],
   "source": [
    "# Here you have all the libraries and information about the version you are going to need to run this code,\n",
    "#Python 3.8.12\n",
    "import selenium # https://selenium-python.readthedocs.io/ (selenium==4.1.0)\n",
    "from bs4 import BeautifulSoup # https://www.crummy.com/software/BeautifulSoup/bs4/doc/ (beautifulsoup4==4.10.0)\n",
    "import requests # requests-oauthlib==1.3.0"
   ]
  },
  {
   "cell_type": "code",
   "execution_count": 28,
   "metadata": {},
   "outputs": [],
   "source": [
    "url = 'https://www.codewars.com/users/Pomilusky/completed'\n",
    "link = requests.get(url)\n",
    "soup = BeautifulSoup(link.content, \"html.parser\")"
   ]
  },
  {
   "cell_type": "code",
   "execution_count": 29,
   "metadata": {},
   "outputs": [],
   "source": [
    "# This code misses the scroll down to find all the katas, it will only take the first 15, I am going to do it with selenium\n",
    "lista = soup.find('div',{'class':\"items-list w-full md:w-2/3 md:pl-4 md:border-l md:flex-grow\"})\n",
    "lista = lista.findAll('div', {'class':'list-item-kata'})"
   ]
  },
  {
   "cell_type": "code",
   "execution_count": 30,
   "metadata": {},
   "outputs": [],
   "source": [
    "# Now I am going to create a list with all the links and names of the katas,\n",
    "kata_dict = dict({})\n",
    "for i in lista:\n",
    "    line = i.find('a')\n",
    "    name = line.text\n",
    "    url = line['href']\n",
    "    kata_dict[name] = url"
   ]
  },
  {
   "cell_type": "code",
   "execution_count": 45,
   "metadata": {},
   "outputs": [],
   "source": [
    "# Now let's create a function to enter the url and extract all the information,\n",
    "kata_url = 'https://www.codewars.com/kata/585b1fafe08bae9988000314'\n",
    "kata_link = requests.get(kata_url)\n",
    "soup = BeautifulSoup(kata_link.content, \"html.parser\")"
   ]
  },
  {
   "cell_type": "code",
   "execution_count": 49,
   "metadata": {},
   "outputs": [
    {
     "data": {
      "text/plain": [
       "[]"
      ]
     },
     "execution_count": 49,
     "metadata": {},
     "output_type": "execute_result"
    }
   ],
   "source": [
    "body = soup.find('div', {'class':'w-full mt-2'})\n",
    "text = body.find('div', {'class':'markdown prose max-w-5xl mx-auto'}).findAll('p')\n",
    "text"
   ]
  },
  {
   "cell_type": "code",
   "execution_count": null,
   "metadata": {},
   "outputs": [],
   "source": []
  }
 ],
 "metadata": {
  "interpreter": {
   "hash": "d00a1931e609772884d4e4263bd83cd526fe20ad88d0f2499e0ed4fd2f889d0e"
  },
  "kernelspec": {
   "display_name": "Python 3.8.12 ('ironhack')",
   "language": "python",
   "name": "python3"
  },
  "language_info": {
   "codemirror_mode": {
    "name": "ipython",
    "version": 3
   },
   "file_extension": ".py",
   "mimetype": "text/x-python",
   "name": "python",
   "nbconvert_exporter": "python",
   "pygments_lexer": "ipython3",
   "version": "3.8.12"
  },
  "orig_nbformat": 4
 },
 "nbformat": 4,
 "nbformat_minor": 2
}
