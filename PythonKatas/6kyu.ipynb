{
 "cells": [
  {
   "cell_type": "markdown",
   "metadata": {},
   "source": [
    "Kata: Find the odd int\n",
    "\n",
    "Link: https://www.codewars.com/kata/54da5a58ea159efa38000836\n",
    "\n",
    "Desc: Given an array of integers, find the one that appears an odd number of times.\n",
    "\n",
    "There will always be only one integer that appears an odd number of times.\n",
    "\n",
    "Examples\n",
    "[7] should return 7, because it occurs 1 time (which is odd).\n",
    "[0] should return 0, because it occurs 1 time (which is odd).\n",
    "[1,1,2] should return 2, because it occurs 1 time (which is odd).\n",
    "[0,1,0,1,0] should return 0, because it occurs 3 times (which is odd).\n",
    "[1,2,2,3,3,3,4,3,3,3,2,2,1] should return 4, because it appears 1 time (which is odd).\n",
    "\n"
   ]
  },
  {
   "cell_type": "code",
   "execution_count": null,
   "metadata": {},
   "outputs": [],
   "source": [
    "def find_it(seq):\n",
    "    for i in seq:\n",
    "        print(i, seq.count(i))\n",
    "        if seq.count(i) %2 != 0:\n",
    "            return i\n",
    "        else:\n",
    "            seq = list(filter(lambda a: a != i, seq))\n",
    "        print(seq)\n",
    "    return None"
   ]
  },
  {
   "cell_type": "markdown",
   "metadata": {},
   "source": [
    "Kata: Does my number look big in this?\n",
    "\n",
    "\n",
    "Link: https://www.codewars.com/kata/5287e858c6b5a9678200083c\n",
    "\n",
    "Desc:\n",
    "A Narcissistic Number is a positive number which is the sum of its own digits, each raised to the power of the number of digits in a given base. In this Kata, we will restrict ourselves to decimal (base 10).\n",
    "\n",
    "For example, take 153 (3 digits), which is narcisstic:\n",
    "\n",
    "    1^3 + 5^3 + 3^3 = 1 + 125 + 27 = 153\n",
    "and 1652 (4 digits), which isn't:\n",
    "\n",
    "    1^4 + 6^4 + 5^4 + 2^4 = 1 + 1296 + 625 + 16 = 1938\n",
    "The Challenge:\n",
    "\n",
    "Your code must return true or false (not 'true' and 'false') depending upon whether the given number is a Narcissistic number in base 10. This may be True and False in your language, e.g. PHP.\n",
    "\n",
    "Error checking for text strings or other invalid inputs is not required, only valid positive non-zero integers will be passed into the function.\n"
   ]
  },
  {
   "cell_type": "code",
   "execution_count": null,
   "metadata": {},
   "outputs": [],
   "source": [
    "def narcissistic( value ):\n",
    "    suma = 0\n",
    "    for i in str(value):\n",
    "        a = int(i)**len(str(value))\n",
    "        suma += a\n",
    "    if value == suma:\n",
    "        return True\n",
    "    else:\n",
    "        return False"
   ]
  },
  {
   "cell_type": "markdown",
   "metadata": {},
   "source": [
    "Kata: Convert string to camel case\n",
    "\n",
    "\n",
    "Link: https://www.codewars.com/kata/517abf86da9663f1d2000003\n",
    "\n",
    "Desc: Complete the method/function so that it converts dash/underscore delimited words into camel casing. The first word within the output should be capitalized only if the original word was capitalized (known as Upper Camel Case, also often referred to as Pascal case).\n",
    "\n",
    "Examples\n",
    "\"the-stealth-warrior\" gets converted to \"theStealthWarrior\"\n",
    "\"The_Stealth_Warrior\" gets converted to \"TheStealthWarrior\"\n"
   ]
  },
  {
   "cell_type": "code",
   "execution_count": null,
   "metadata": {},
   "outputs": [],
   "source": [
    "def to_camel_case(text):\n",
    "    llista = text.split('-')\n",
    "    counter = 0 \n",
    "    llista_1 = []\n",
    "    for i in llista:\n",
    "        if '_' in i:\n",
    "            llista_2 = i.split('_')\n",
    "            for j in llista_2:\n",
    "                llista_1.insert(counter, j)\n",
    "                counter += 1\n",
    "        else:\n",
    "            llista_1.insert(counter, i)\n",
    "            counter += 1\n",
    "    string = ''\n",
    "    counter = 0\n",
    "    for i in llista_1:\n",
    "        if counter == 0:\n",
    "            string += i\n",
    "            counter += 1\n",
    "        else:\n",
    "            string += i.capitalize()\n",
    "    return string"
   ]
  },
  {
   "cell_type": "markdown",
   "metadata": {},
   "source": [
    "Kata: Give me a Diamond\n",
    "\n",
    "\n",
    "Link: https://www.codewars.com/kata/5503013e34137eeeaa001648\n",
    "\n",
    "Desc:Jamie is a programmer, and James' girlfriend. She likes diamonds, and wants a diamond string from James. Since James doesn't know how to make this happen, he needs your help.\n",
    "\n",
    "Task\n",
    "You need to return a string that looks like a diamond shape when printed on the screen, using asterisk (*) characters. Trailing spaces should be removed, and every line must be terminated with a newline character (\\n).\n",
    "\n",
    "Return null/nil/None/... if the input is an even number or negative, as it is not possible to print a diamond of even or negative size.\n"
   ]
  },
  {
   "cell_type": "code",
   "execution_count": null,
   "metadata": {},
   "outputs": [],
   "source": [
    "def diamond(n):\n",
    "    if n%2 != 0 and n > 0:\n",
    "        if n == 1: return '*\\n'\n",
    "        else: \n",
    "            lista = [' '*int(((n+1-i)/2))+'*'*i for i in range(1,n,2)]\n",
    "            return '\\n'.join(lista)+'\\n'+'*'*n+'\\n'+'\\n'.join(lista[::-1])+'\\n'\n",
    "    else:\n",
    "        return  None"
   ]
  },
  {
   "cell_type": "markdown",
   "metadata": {},
   "source": [
    "Kata: Pokemon Damage Calculator\n",
    "\n",
    "\n",
    "Link: https://www.codewars.com/kata/536e9a7973130a06eb000e9f\n",
    "\n",
    "\n",
    "Desc:\n",
    "It's a Pokemon battle! Your task is to calculate the damage that a particular move would do using the following formula (not the actual one from the game):\n",
    "\n",
    "damage = 50 * (attack / defense) * effectiveness\n",
    "Where:\n",
    "\n",
    "attack = your attack power\n",
    "defense = the opponent's defense\n",
    "effectiveness = the effectiveness of the attack based on the matchup (see explanation below)\n",
    "Effectiveness:\n",
    "\n",
    "Attacks can be super effective, neutral, or not very effective depending on the matchup. For example, water would be super effective against fire, but not very effective against grass.\n",
    "\n",
    "Super effective: 2x damage\n",
    "Neutral: 1x damage\n",
    "Not very effective: 0.5x damage\n",
    "To prevent this kata from being tedious, you'll only be dealing with four types: fire, water, grass, and electric. Here is the effectiveness of each matchup:\n",
    "\n",
    "fire > grass\n",
    "\n",
    "fire < water\n",
    "\n",
    "fire = electric\n",
    "\n",
    "water < grass\n",
    "\n",
    "water < electric\n",
    "\n",
    "grass = electric\n",
    "\n",
    "For this kata, any type against itself is not very effective. Also, assume that the relationships between different types are symmetric (if A is super effective against B, then B is not very effective against A).\n",
    "\n",
    "The function you must implement takes in:\n",
    "\n",
    "your type\n",
    "the opponent's type\n",
    "your attack power\n",
    "the opponent's defense\n"
   ]
  },
  {
   "cell_type": "code",
   "execution_count": null,
   "metadata": {},
   "outputs": [],
   "source": [
    "def calculate_damage(your_type, opponent_type, attack, defense):\n",
    "    if your_type == 'water':\n",
    "        effectiveness =  [2 if opponent_type == 'fire' else 0.5 ]\n",
    "    if your_type == 'fire':\n",
    "        effectiveness =  [2 if opponent_type == 'grass' else 1 if  opponent_type == 'electric' else 0.5 ]\n",
    "    if your_type == 'electric':\n",
    "        effectiveness =  [2 if opponent_type == 'water' else 1 if opponent_type in ['grass','fire'] else 0.5 ]\n",
    "    if your_type == 'grass':\n",
    "        effectiveness =  [2 if opponent_type == 'water' else 1 if  opponent_type == 'electric' else 0.5 ]\n",
    "    \n",
    "    return 50*(attack/defense)*effectiveness[0]"
   ]
  },
  {
   "cell_type": "markdown",
   "metadata": {},
   "source": [
    "Kata: Identify the array's ordering\n",
    "\n",
    "\n",
    "Link: https://www.codewars.com/kata/57f669477c9a2b1b9700022d\n",
    "\n",
    "\n",
    "Desc: Write a function that takes a single array as an argument (containing multiple strings and/or positive numbers and/or arrays), and returns one of four possible string values, depending on the ordering of the lengths of the elements in the input array:\n",
    "\n",
    "Your function should return...\n",
    "\n",
    "“Increasing” - if the lengths of the elements increase from left to right (although it is possible that some neighbouring elements may also be equal in length)\n",
    "“Decreasing” - if the lengths of the elements decrease from left to right (although it is possible that some neighbouring elements may also be equal in length)\n",
    "“Unsorted” - if the lengths of the elements fluctuate from left to right\n",
    "“Constant” - if all element's lengths are the same.\n",
    "Numbers and Strings should be evaluated based on the number of characters or digits used to write them.\n",
    "\n",
    "Arrays should be evaluated based on the number of elements counted directly in the parent array (but not the number of elements contained in any sub-arrays).\n",
    "\n",
    "Happy coding! :)\n"
   ]
  },
  {
   "cell_type": "code",
   "execution_count": null,
   "metadata": {},
   "outputs": [],
   "source": [
    "def order_type(arr):\n",
    "    #your code here\n",
    "    Increasing = None\n",
    "    Decreasing = None\n",
    "    arr= list(map(lambda x:  str(x) if (type(x) != list) else x, arr))\n",
    "    for i in range(1,len(arr)):\n",
    "        if len(arr[i]) > len(arr[i-1]):\n",
    "            Increasing = True\n",
    "        elif len(arr[i]) < len(arr[i-1]):\n",
    "            Decreasing = True\n",
    "        \n",
    "    if Increasing == None and Decreasing == None:\n",
    "        return \"Constant\"\n",
    "    \n",
    "    elif Increasing and Decreasing:\n",
    "        return \"Unsorted\"\n",
    "    elif Increasing or Decreasing:\n",
    "        if Increasing:\n",
    "            return \"Increasing\"\n",
    "        else:\n",
    "            return \"Decreasing\""
   ]
  },
  {
   "cell_type": "markdown",
   "metadata": {},
   "source": [
    "Kata: The Deaf Rats of Hamelin\n",
    "\n",
    " \n",
    "Link: https://www.codewars.com/kata/598106cb34e205e074000031\n",
    "\n",
    "Desc: Story\n",
    "The Pied Piper has been enlisted to play his magical tune and coax all the rats out of town.\n",
    "\n",
    "But some of the rats are deaf and are going the wrong way!\n",
    "\n",
    "Kata Task\n",
    "How many deaf rats are there?\n",
    "\n",
    "Legend\n",
    "P = The Pied Piper\n",
    "O~ = Rat going left\n",
    "~O = Rat going right\n"
   ]
  },
  {
   "cell_type": "code",
   "execution_count": null,
   "metadata": {},
   "outputs": [],
   "source": [
    "def count_deaf_rats(town):\n",
    "    llista =''.join([i for i in town if i != ' ']).split('P')\n",
    "    counter = 0\n",
    "    for element in llista:\n",
    "        if element == llista[0] or len(llista) == 1:\n",
    "            for i in range(0,len(element),2):\n",
    "                if element[i+1] != 'O': counter +=1\n",
    "        else:\n",
    "            for i in range(0,len(element),2):\n",
    "                if element[i] != 'O': counter +=1\n",
    "    return counter"
   ]
  },
  {
   "cell_type": "markdown",
   "metadata": {},
   "source": [
    "Kata: Create Phone Number\n",
    "\n",
    "\n",
    "Link: https://www.codewars.com/kata/525f50e3b73515a6db000b83\n",
    "\n",
    "Desc: Write a function that accepts an array of 10 integers (between 0 and 9), that returns a string of those numbers in the form of a phone number.\n",
    "\n",
    "Example\n",
    "create_phone_number([1, 2, 3, 4, 5, 6, 7, 8, 9, 0]) # => returns \"(123) 456-7890\"\n",
    "The returned format must be correct in order to complete this challenge.\n",
    "Don't forget the space after the closing parentheses!\n"
   ]
  },
  {
   "cell_type": "code",
   "execution_count": null,
   "metadata": {},
   "outputs": [],
   "source": [
    "def create_phone_number(n):\n",
    "    n = [str(i) for i in n]\n",
    "    return '('+''.join(n[:3])+') '+''.join(n[3:6])+'-'+''.join(n[6:])"
   ]
  },
  {
   "cell_type": "markdown",
   "metadata": {},
   "source": [
    "Kata: Persistent Bugger.\n",
    "\n",
    "\n",
    "Link: https://www.codewars.com/kata/55bf01e5a717a0d57e0000ec\n",
    "\n",
    "Desc: Write a function, persistence, that takes in a positive parameter num and returns its multiplicative persistence, which is the number of times you must multiply the digits in num until you reach a single digit.\n"
   ]
  },
  {
   "cell_type": "code",
   "execution_count": null,
   "metadata": {},
   "outputs": [],
   "source": [
    "def persistence(n):\n",
    "    count = 0\n",
    "    while len(str(n)) > 1:\n",
    "        count +=1\n",
    "        m = 1\n",
    "        for i in str(n):\n",
    "            m *= int(i)\n",
    "        n = m\n",
    "    return count"
   ]
  },
  {
   "cell_type": "markdown",
   "metadata": {},
   "source": [
    "Kata: Count the smiley faces!\n",
    "\n",
    "\n",
    "Link: https://www.codewars.com/kata/583203e6eb35d7980400002a\n",
    "\n",
    "Desc:Given an array (arr) as an argument complete the function countSmileys that should return the total number of smiling faces.\n",
    "\n",
    "Rules for a smiling face:\n",
    "\n",
    "Each smiley face must contain a valid pair of eyes. Eyes can be marked as : or ;\n",
    "A smiley face can have a nose but it does not have to. Valid characters for a nose are - or ~\n",
    "Every smiling face must have a smiling mouth that should be marked with either ) or D\n",
    "No additional characters are allowed except for those mentioned. \n"
   ]
  },
  {
   "cell_type": "code",
   "execution_count": null,
   "metadata": {},
   "outputs": [],
   "source": [
    "def count_smileys(arr):\n",
    "    i=0\n",
    "    eyes, noses, mouths = [':',';'], ['-','~'], [')','D']\n",
    "    count = 0\n",
    "    for i in arr:\n",
    "        face = True\n",
    "        if i[0] not in eyes: face = False \n",
    "        if i[1] in noses:\n",
    "            if len(i) == 2 or i[2] not in mouths:\n",
    "                face = False\n",
    "        elif i[1] not in mouths:\n",
    "            face =False\n",
    "        if face: count +=1\n",
    "            \n",
    "    return count#the number of valid smiley faces in array/list"
   ]
  },
  {
   "cell_type": "markdown",
   "metadata": {},
   "source": [
    "Kata: Piano Kata, Part 1\n",
    "\n",
    "\n",
    "Link: https://www.codewars.com/kata/589273272fab865136000108\n",
    "\n",
    "Desc:\n",
    "Your Story\n",
    "\"A piano in the home meant something.\" - Fried Green Tomatoes at the Whistle Stop Cafe\n",
    "\n",
    "You've just realized a childhood dream by getting a beautiful and beautiful-sounding upright piano from a friend who was leaving the country. You immediately started doing things like playing \"Heart and Soul\" over and over again, using one finger to pick out any melody that came into your head, requesting some sheet music books from the library, signing up for some MOOCs like Developing Your Musicianship, and wondering if you will think of any good ideas for writing piano-related katas and apps.\n",
    "\n",
    "Now you're doing an exercise where you play the very first (leftmost, lowest in pitch) key on the 88-key keyboard, which (as shown below) is white, with the little finger on your left hand, then the second key, which is black, with the ring finger on your left hand, then the third key, which is white, with the middle finger on your left hand, then the fourth key, also white, with your left index finger, and then the fifth key, which is black, with your left thumb. Then you play the sixth key, which is white, with your right thumb, and continue on playing the seventh, eighth, ninth, and tenth keys with the other four fingers of your right hand. Then for the eleventh key you go back to your left little finger, and so on. Once you get to the rightmost/highest, 88th, key, you start all over again with your left little finger on the first key. Your thought is that this will help you to learn to move smoothly and with uniform pressure on the keys from each finger to the next and back and forth between hands.\n",
    "\n",
    "\n",
    "You're not saying the names of the notes while you're doing this, but instead just counting each key press out loud (not starting again at 1 after 88, but continuing on to 89 and so forth) to try to keep a steady rhythm going and to see how far you can get before messing up. You move gracefully and with flourishes, and between screwups you hear, see, and feel that you are part of some great repeating progression between low and high notes and black and white keys.\n",
    "\n",
    "Your Function\n",
    "The function you are going to write is not actually going to help you with your piano playing, but just explore one of the patterns you're experiencing: Given the number you stopped on, was it on a black key or a white key? For example, in the description of your piano exercise above, if you stopped at 5, your left thumb would be on the fifth key of the piano, which is black. Or if you stopped at 92, you would have gone all the way from keys 1 to 88 and then wrapped around, so that you would be on the fourth key, which is white.\n",
    "\n",
    "Your function will receive an integer between 1 and 10000 (maybe you think that in principle it would be cool to count up to, say, a billion, but considering how many years it would take it is just not possible) and return the string \"black\" or \"white\" -- here are a few more examples:"
   ]
  },
  {
   "cell_type": "code",
   "execution_count": null,
   "metadata": {},
   "outputs": [],
   "source": [
    "def black_or_white_key(k):\n",
    "    color_list = ['white', 'black', 'white','white','black','white','black','white','white', 'black','white','black'] # First 12 keys   else:\n",
    "    k = (((k-1) % 88) %12) #we rewrite it giving it the key number in the piano keyboard\n",
    "    color = color_list[k]\n",
    "    return color"
   ]
  },
  {
   "cell_type": "markdown",
   "metadata": {},
   "source": [
    "Kata: Find the Mine!\n",
    "\n",
    "\n",
    "Link: https://www.codewars.com/kata/528d9adf0e03778b9e00067e\n",
    "\n",
    "Desc:You've just discovered a square (NxN) field and you notice a warning sign. The sign states that there's a single bomb in the 2D grid-like field in front of you.\n",
    "\n",
    "Write a function mineLocation/MineLocation that accepts a 2D array, and returns the location of the mine. The mine is represented as the integer 1 in the 2D array. Areas in the 2D array that are not the mine will be represented as 0s.\n",
    "\n",
    "The location returned should be an array (Tuple<int, int> in C#) where the first element is the row index, and the second element is the column index of the bomb location (both should be 0 based). All 2D arrays passed into your function will be square (NxN), and there will only be one mine in the array.\n"
   ]
  },
  {
   "cell_type": "code",
   "execution_count": null,
   "metadata": {},
   "outputs": [],
   "source": [
    "def mineLocation(field):\n",
    "    for fila in field:\n",
    "        if 1 in fila: return [field.index(fila), fila.index(1)]"
   ]
  },
  {
   "cell_type": "markdown",
   "metadata": {},
   "source": [
    "Kata: Schrödinger's Boolean\n",
    "\n",
    "\n",
    "Link: https://www.codewars.com/kata/5a5f9f80f5dc3f942b002309\n",
    "\n",
    "Desc:Can a value be both True and False?\n",
    "\n",
    "Define omnibool so that it returns True for the following:\n",
    "\n",
    "omnibool == True and omnibool == False\n",
    "If you enjoyed this kata, be sure to check out my other katas.\n"
   ]
  },
  {
   "cell_type": "code",
   "execution_count": null,
   "metadata": {},
   "outputs": [],
   "source": [
    "class Schrodinger():\n",
    "    def __eq__(self, booleano): return True\n",
    "\n",
    "omnibool = Schrodinger()"
   ]
  },
  {
   "cell_type": "markdown",
   "metadata": {},
   "source": [
    "Kata: Multiples of 3 or 5\n",
    "\n",
    "\n",
    "Link: https://www.codewars.com/kata/514b92a657cdc65150000006\n",
    "\n",
    "Desc: If we list all the natural numbers below 10 that are multiples of 3 or 5, we get 3, 5, 6 and 9. The sum of these multiples is 23.\n",
    "\n",
    "Finish the solution so that it returns the sum of all the multiples of 3 or 5 below the number passed in. Additionally, if the number is negative, return 0 (for languages that do have them).\n",
    "\n",
    "Note: If the number is a multiple of both 3 and 5, only count it once.\n"
   ]
  },
  {
   "cell_type": "code",
   "execution_count": null,
   "metadata": {},
   "outputs": [],
   "source": [
    "def solution(number):\n",
    "    return sum([i for i in range(number) if i%3 == 0 or i%5 ==0])"
   ]
  },
  {
   "cell_type": "markdown",
   "metadata": {},
   "source": [
    "Kata: Array.diff\n",
    "\n",
    "\n",
    "Link: https://www.codewars.com/kata/523f5d21c841566fde000009\n",
    "\n",
    "Desc: Your goal in this kata is to implement a difference function, which subtracts one list from another and returns the result.\n"
   ]
  },
  {
   "cell_type": "code",
   "execution_count": null,
   "metadata": {},
   "outputs": [],
   "source": [
    "def array_diff(a, b):\n",
    "    return [i for i in a if i not in b]"
   ]
  },
  {
   "cell_type": "markdown",
   "metadata": {},
   "source": [
    "Kata: Decode the Morse code\n",
    "\n",
    "\n",
    "Link: https://www.codewars.com/kata/54b724efac3d5402db00065e\n",
    "\n",
    "Desc: In this kata you have to write a simple Morse code decoder. While the Morse code is now mostly superseded by voice and digital data communication channels, it still has its use in some applications around the world.\n",
    "The Morse code encodes every character as a sequence of \"dots\" and \"dashes\". For example, the letter A is coded as ·−, letter Q is coded as −−·−, and digit 1 is coded as ·−−−−. The Morse code is case-insensitive, traditionally capital letters are used. When the message is written in Morse code, a single space is used to separate the character codes and 3 spaces are used to separate words. For example, the message HEY JUDE in Morse code is ···· · −·−−   ·−−− ··− −·· ·.\n",
    "\n",
    "NOTE: Extra spaces before or after the code have no meaning and should be ignored.\n",
    "\n",
    "In addition to letters, digits and some punctuation, there are some special service codes, the most notorious of those is the international distress signal SOS (that was first issued by Titanic), that is coded as ···−−−···. These special codes are treated as single special characters, and usually are transmitted as separate words.\n",
    "\n",
    "Your task is to implement a function that would take the morse code as input and return a decoded human-readable string.\n",
    "\n",
    "For example:\n",
    "\n",
    "decode_morse('.... . -.--   .--- ..- -.. .')\n",
    "#should return \"HEY JUDE\"\n",
    "NOTE: For coding purposes you have to use ASCII characters . and -, not Unicode characters.\n",
    "\n",
    "The Morse code table is preloaded for you as a dictionary, feel free to use it:\n",
    "\n",
    "Coffeescript/C++/Go/JavaScript/Julia/PHP/Python/Ruby/TypeScript: MORSE_CODE['.--']\n",
    "C#: MorseCode.Get(\".--\") (returns string)\n",
    "F#: MorseCode.get \".--\" (returns string)\n",
    "Elixir: @morse_codes variable (from use MorseCode.Constants). Ignore the unused variable warning for morse_codes because it's no longer used and kept only for old solutions.\n",
    "Elm: MorseCodes.get : Dict String String\n",
    "Haskell: morseCodes ! \".--\" (Codes are in a Map String String)\n",
    "Java: MorseCode.get(\".--\")\n",
    "Kotlin: MorseCode[\".--\"] ?: \"\" or MorseCode.getOrDefault(\".--\", \"\")\n",
    "Racket: morse-code (a hash table)\n",
    "Rust: MORSE_CODE\n",
    "Scala: morseCodes(\".--\")\n",
    "Swift: MorseCode[\".--\"] ?? \"\" or MorseCode[\".--\", default: \"\"]\n",
    "C: provides parallel arrays, i.e. morse[2] == \"-.-\" for ascii[2] == \"C\"\n",
    "NASM: a table of pointers to the morsecodes, and a corresponding list of ascii symbols\n",
    "All the test strings would contain valid Morse code, so you may skip checking for errors and exceptions. In C#, tests will fail if the solution code throws an exception, please keep that in mind. This is mostly because otherwise the engine would simply ignore the tests, resulting in a \"valid\" solution.\n",
    "\n",
    "Good luck!\n",
    "\n",
    "After you complete this kata, you may try yourself at Decode the Morse code, advanced.\n"
   ]
  },
  {
   "cell_type": "code",
   "execution_count": null,
   "metadata": {},
   "outputs": [],
   "source": [
    "def decode_morse(morse_code):\n",
    "    return ''.join([MORSE_CODE[i] if i !='' else ' ' for i in morse_code.split(' ')]).replace('  ',' ').strip()"
   ]
  },
  {
   "cell_type": "markdown",
   "metadata": {},
   "source": [
    "Kata: Simple Fun #247: To And From\n",
    "\n",
    "\n",
    "Link: https://www.codewars.com/kata/590c3173cd3b99c467000a26\n",
    "\n",
    "Desc:\n",
    "A person is moving along a straight line. Initially he is at point A. He goes to point B from A with speed equal to 1 meter per second. Immediately after reaching B he turns around and heads to A from B with the same speed. After reaching point A he turns around once again and heads to B. etc.\n",
    "\n",
    "We need an algorithm that identifies the location of the person at any given moment in time(argument t).\n",
    "\n",
    "It's guaranteed that A and B are two different points."
   ]
  },
  {
   "cell_type": "code",
   "execution_count": null,
   "metadata": {},
   "outputs": [],
   "source": [
    "def to_and_from(a, b, t):\n",
    "    if int(t/(b-a))%2 and b>a:\n",
    "        return b-t%(b-a)\n",
    "    elif int(t/(b-a))%2 and a>b:\n",
    "        return b+t%(a-b)\n",
    "    elif int(t/(b-a))%2 == 0 and b>a:\n",
    "        return t%(b-a)+a\n",
    "    else:\n",
    "        return a-t%(a-b)"
   ]
  },
  {
   "cell_type": "markdown",
   "metadata": {},
   "source": [
    "Kata: The Supermarket Queue\n",
    "\n",
    "\n",
    "Link: https://www.codewars.com/kata/57b06f90e298a7b53d000a86\n",
    "\n",
    "Desc: There is a queue for the self-checkout tills at the supermarket. Your task is write a function to calculate the total time required for all the customers to check out!\n"
   ]
  },
  {
   "cell_type": "code",
   "execution_count": null,
   "metadata": {},
   "outputs": [],
   "source": [
    "def queue_time(customers, n):\n",
    "    ongoing, customers = customers[:n], list(reversed(customers[n:]))\n",
    "    time = 0\n",
    "    while ongoing:\n",
    "        ongoing = sorted(ongoing)\n",
    "        time += ongoing[0]\n",
    "        ongoing = [i - ongoing[0] for i in ongoing]\n",
    "        maxim = ongoing[-1]\n",
    "        ongoing.remove(ongoing[0])\n",
    "        if customers: ongoing.append(customers.pop())\n",
    "\n",
    "        else: \n",
    "            time += maxim\n",
    "            return time\n",
    "    return 0\n",
    "\n",
    "    pass"
   ]
  },
  {
   "cell_type": "markdown",
   "metadata": {},
   "source": [
    "Kata: The Modulo-3 Sequence\n",
    "\n",
    "\n",
    "Link: https://www.codewars.com/kata/589d33e4e0bbce5d6300061c\n",
    "\n",
    "Desc:\n",
    " Consider a sequence where the first two numbers are 0 and 1 and the next number of the sequence is the sum of the previous 2 modulo 3. Write a function that finds the nth number of the sequence."
   ]
  },
  {
   "cell_type": "code",
   "execution_count": null,
   "metadata": {},
   "outputs": [],
   "source": [
    "def sequence(n):\n",
    "    dic = dict({0:[1,5],1:[0,2,3],2:[4,6,7]})\n",
    "    for i in dic.keys():\n",
    "        if n%8 in dic[i]: return i"
   ]
  },
  {
   "cell_type": "markdown",
   "metadata": {},
   "source": [
    "Kata: Magnitude\n",
    "\n",
    "\n",
    "Link: https://www.codewars.com/kata/5cc70653658d6f002ab170b5\n",
    "\n",
    "\n",
    "Desc: We will represent complex numbers in either cartesian or polar form as an array/list, using the first element as a type tag; the normal tags are \"cart\" (for cartesian) and \"polar\". The forms of the tags depend on the language.\n",
    "\n",
    "['cart', 3, 4]represents the complex number 3+4i\n",
    "['polar', 2, 3]represents the complex number with modulus (or magnitude)2and angle3\n",
    "In the same way:\n",
    "\n",
    "['cart', 1, 2, 3, 4, 5, 6]includes the three complex numbers 1+2i, 3+4i, 5+6i\n",
    "['polar', 2, 1, 2, 2, 2, 3] represents the complex numbers (2, 1), (2, 2), (2, 3) in polar form where the magnitudes are 2, 2, 2 and the angles 1, 2, 3\n"
   ]
  },
  {
   "cell_type": "code",
   "execution_count": null,
   "metadata": {},
   "outputs": [],
   "source": [
    "import numpy as np\n",
    "\n",
    "def sqr_modulus(z):\n",
    "    print(z)\n",
    "    fcond = z[0] in ['cart','polar']\n",
    "    a = True\n",
    "    for i in z[1:]:\n",
    "        if type(i) != int: a =False\n",
    "        \n",
    "    mdls = []\n",
    "    if fcond and a:\n",
    "        if z[0] == 'cart':\n",
    "            for i in range(1,len(z), 2):\n",
    "                modul = z[i]**2+z[i+1]**2\n",
    "                mdls.append(modul)\n",
    "        else:\n",
    "            for i in range(1,len(z), 2):\n",
    "                modul = (z[i]**2)*(np.cos(z[i+1])**2+np.sin(z[i+1])**2)\n",
    "                if modul == 19244.0: print((z[i]**2)*(np.cos(z[i+1])**2+np.sin(z[i+1])**2))\n",
    "                mdls.append(modul)\n",
    "        result = np.ceil(sum(mdls))\n",
    "        greatest_num = [num for num in str(int(result))]\n",
    "        greatest_num.sort(reverse=True)\n",
    "    \n",
    "        return True, result, int(''.join(greatest_num))\n",
    "    else:\n",
    "        return False, -1, 1"
   ]
  },
  {
   "cell_type": "markdown",
   "metadata": {},
   "source": [
    "Kata: Valid Braces\n",
    "\n",
    "\n",
    "Link: https://www.codewars.com/kata/5277c8a221e209d3f6000b56\n",
    "\n",
    "Desc: Write a function that takes a string of braces, and determines if the order of the braces is valid. It should return true if the string is valid, and false if it's invalid.\n",
    "\n",
    "This Kata is similar to the Valid Parentheses Kata, but introduces new characters: brackets [], and curly braces {}. Thanks to @arnedag for the idea!\n",
    "\n",
    "All input strings will be nonempty, and will only consist of parentheses, brackets and curly braces: ()[]{}.\n",
    "\n",
    "What is considered Valid?\n",
    "A string of braces is considered valid if all braces are matched with the correct brace.\n"
   ]
  },
  {
   "cell_type": "code",
   "execution_count": null,
   "metadata": {},
   "outputs": [],
   "source": [
    "def validBraces(s):\n",
    "    while '{}' in s or '()' in s or '[]' in s: s=s.replace('{}','').replace('[]','').replace('()','')\n",
    "    return not bool(s)"
   ]
  },
  {
   "cell_type": "markdown",
   "metadata": {},
   "source": [
    "Kata: Sorting by bits\n",
    "\n",
    "\n",
    "Link: https://www.codewars.com/kata/59fa8e2646d8433ee200003f\n",
    "\n",
    "Desc: In this kata you're expected to sort an array of 32-bit integers in ascending order of the number of on bits they have.\n",
    "\n",
    "E.g Given the array [7, 6, 15, 8]\n",
    "\n",
    "7 has 3 on bits (000...0111)\n",
    "6 has 2 on bits (000...0011)\n",
    "15 has 4 on bits (000...1111)\n",
    "8 has 1 on bit (000...1000)\n",
    "So the array in sorted order would be [8, 6, 7, 15].\n",
    "\n",
    "In cases where two numbers have the same number of bits, compare their real values instead.\n",
    "\n",
    "E.g between 10 (...1010) and 12 (...1100), they both have the same number of on bits '2' but the integer 10 is less than 12 so it comes first in sorted order.\n",
    "\n",
    "Your task is to write the function sortBybit() that takes an array of integers and sort them as described above.\n",
    "\n",
    "Note: Your function should modify the input rather than creating a new array.\n"
   ]
  },
  {
   "cell_type": "code",
   "execution_count": null,
   "metadata": {},
   "outputs": [],
   "source": [
    "def sort_by_bit(arr):\n",
    "    return [i[0] for i in sorted([(n,str(bin(n)).count('1')) for n in sorted(arr)], key=lambda x: x[1])]"
   ]
  },
  {
   "cell_type": "markdown",
   "metadata": {},
   "source": [
    "Kata: Complete the table pattern\n",
    " \n",
    "\n",
    "Link: https://www.codewars.com/kata/5827e2efc983ca6f230000e0\n",
    "\n",
    "Desc:\n",
    "Give you two number rows , columns and a string str. Returns a rows x columns table pattern and fill in the str(each grid fill in a char, the length of str is always less than or equals to the total numbers of grids)\n"
   ]
  },
  {
   "cell_type": "code",
   "execution_count": null,
   "metadata": {},
   "outputs": [],
   "source": [
    "def pattern(rows, columns, s):\n",
    "    p = str(('+---'*columns+'+\\n'+'|   '*columns+'|\\n')*rows +'+---'*columns+'+')\n",
    "    for i in [e for e in s]:\n",
    "        if i != ' ':\n",
    "            p = p.replace('   ',f' {i} ', 1)\n",
    "        else:\n",
    "            p = p.replace('   ',f' cd ', 1)\n",
    "    p= p.replace('cd', ' ')\n",
    "\n",
    "    return p"
   ]
  },
  {
   "cell_type": "markdown",
   "metadata": {},
   "source": [
    "Kata: Manhattan Distance\n",
    "\n",
    "\n",
    "\n",
    "Link: https://www.codewars.com/kata/52998bf8caa22d98b800003a\n",
    "\n",
    "\n",
    "Desc: The distance formula can be used to find the distance between two points. What if we were trying to walk from point A to point B, but there were buildings in the way? We would need some other formula..but which?\n",
    "\n",
    "Manhattan Distance\n",
    "Manhattan distance is the distance between two points in a grid (like the grid-like street geography of the New York borough of Manhattan) calculated by only taking a vertical and/or horizontal path.\n",
    "\n",
    "Complete the function that accepts two points and returns the Manhattan Distance between the two points.\n",
    "\n",
    "The points are arrays or tuples containing the x and y coordinate in the grid. You can think of x as the row in the grid, and y as the column.\n",
    "\n"
   ]
  },
  {
   "cell_type": "code",
   "execution_count": null,
   "metadata": {},
   "outputs": [],
   "source": [
    "def manhattan_distance(pointA, pointB):\n",
    "    return ((pointA[0]-pointB[0])**2)**0.5+((pointA[1]-pointB[1])**2)**0.5"
   ]
  },
  {
   "cell_type": "markdown",
   "metadata": {},
   "source": [
    "Kata:  Piano Kata, Part 2\n",
    "\n",
    "\n",
    "\n",
    "Link: https://www.codewars.com/kata/589631d24a7323d18d00016f\n",
    "\n",
    "\n",
    "Desc: You're continuing to enjoy your new piano, as described in Piano Kata, Part 1. You're also continuing the exercise where you start on the very first (leftmost, lowest in pitch) key on the 88-key keyboard, which (as shown below) is the note A, with the little finger on your left hand, then the second key, which is the black key A# (\"A sharp\"), with your left ring finger, then the third key, B, with your left middle finger, then the fourth key, C, with your left index finger, and then the fifth key, C#, with your left thumb. Then you play the sixth key, D, with your right thumb, and continue on playing the seventh, eighth, ninth, and tenth keys with the other four fingers of your right hand. Then for the eleventh key you go back to your left little finger, and so on. Once you get to the rightmost/highest, 88th, key, C, you start all over again with your left little finger on the first key.\n",
    "\n",
    "\n",
    "\n",
    "(If the Codewars Instructions pane resizes the above piano keyboard image to be too small to read the note labels of the black/sharp keys on your screen, click here to open a copy of the image in a new tab or window.)\n",
    "\n",
    "This time, in addition to counting each key press out loud (not starting again at 1 after 88, but continuing on to 89 and so forth) to try to keep a steady rhythm going and to see how far you can get before messing up, you're also saying the name of each note. You wonder whether this may help you develop perfect pitch in addition to learning to just know which note is which, and -- as in Piano Kata, Part 1 -- helping you to learn to move smoothly and with uniform pressure on the keys from each finger to the next and back and forth between hands.\n",
    "\n",
    "The function you are going to write will explore one of the patterns you're experiencing in your practice: Given the number you stopped on, which note was it? For example, in the description of your piano exercise above, if you stopped at 5, your left thumb would be on the fifth key of the piano, which is C#. Or if you stopped at 92, you would have gone all the way from keys 1 to 88 and then wrapped around, so that you would be on the fourth key, which is C.\n",
    "\n",
    "Your function will receive an integer between 1 and 10000 (maybe you think that in principle it would be cool to count up to, say, a billion, but considering how many years it would take it is just not possible) and return one of the strings \"A\", \"A#\", \"B\", \"C\", \"C#\", \"D\", \"D#\", \"E\", \"F\", \"F#\", \"G\", or \"G#\" indicating which note you stopped on -- here are a few more examples:"
   ]
  },
  {
   "cell_type": "code",
   "execution_count": null,
   "metadata": {},
   "outputs": [],
   "source": [
    "def which_note(k):\n",
    "    notes = [ \"A\", \"A#\", \"B\", \"C\", \"C#\", \"D\", \"D#\", \"E\", \"F\", \"F#\", \"G\", \"G#\"] # First 12 keys\n",
    "    return notes[(((k-1) % 88) %12)]"
   ]
  },
  {
   "cell_type": "markdown",
   "metadata": {},
   "source": [
    "Kata:  Playing with digits\n",
    "\n",
    "\n",
    "\n",
    "Link: https://www.codewars.com/kata/5552101f47fc5178b1000050\n",
    "\n",
    "\n",
    "Desc: Some numbers have funny properties. For example:\n",
    "\n",
    "89 --> 8¹ + 9² = 89 * 1\n",
    "\n",
    "695 --> 6² + 9³ + 5⁴= 1390 = 695 * 2\n",
    "\n",
    "46288 --> 4³ + 6⁴+ 2⁵ + 8⁶ + 8⁷ = 2360688 = 46288 * 51\n",
    "\n",
    "Given a positive integer n written as abcd... (a, b, c, d... being digits) and a positive integer p\n",
    "\n",
    "we want to find a positive integer k, if it exists, such that the sum of the digits of n taken to the successive powers of p is equal to k * n.\n",
    "In other words:\n",
    "\n",
    "Is there an integer k such as : (a ^ p + b ^ (p+1) + c ^(p+2) + d ^ (p+3) + ...) = n * k\n",
    "\n",
    "If it is the case we will return k, if not return -1.\n",
    "\n",
    "Note: n and p will always be given as strictly positive integers."
   ]
  },
  {
   "cell_type": "code",
   "execution_count": null,
   "metadata": {},
   "outputs": [],
   "source": [
    "def dig_pow(n, p):\n",
    "    l_n = [int(c) for c in str(n)]\n",
    "    return sum([l_n[i]**(i+p) for i in range(len(l_n))])/n if sum([l_n[i]**(i+p) for i in range(len(l_n))])%n==0 else -1"
   ]
  },
  {
   "cell_type": "markdown",
   "metadata": {},
   "source": [
    "Kata:  Mexican Wave\n",
    "\n",
    "\n",
    "\n",
    "Link: https://www.codewars.com/kata/58f5c63f1e26ecda7e000029\n",
    "\n",
    "\n",
    "Desc:\n",
    "In this simple Kata your task is to create a function that turns a string into a Mexican Wave. You will be passed a string and you must return that string in an array where an uppercase letter is a person standing up. "
   ]
  },
  {
   "cell_type": "code",
   "execution_count": null,
   "metadata": {},
   "outputs": [],
   "source": [
    "def wave(p):\n",
    "    return [p[:i]+p[i].upper()+p[i+1:] for i in range(len(p)) if p[i] != ' ']"
   ]
  },
  {
   "cell_type": "markdown",
   "metadata": {},
   "source": [
    "Kata: CamelCase Method (in Golang language)\n",
    "\n",
    "\n",
    "\n",
    "Link: https://www.codewars.com/kata/587731fda577b3d1b0001196\n",
    "\n",
    "\n",
    "Desc: Write simple .camelCase method (camel_case function in PHP, CamelCase in C# or camelCase in Java) for strings. All words must have their first letter capitalized without spaces."
   ]
  },
  {
   "cell_type": "code",
   "execution_count": null,
   "metadata": {},
   "outputs": [],
   "source": [
    "package kata\n",
    "\n",
    "import (\"strings\")\n",
    "\n",
    "func CamelCase(s string) string {\n",
    "    return strings.ReplaceAll(strings.Title(s),\" \",\"\")\n",
    "}"
   ]
  },
  {
   "cell_type": "markdown",
   "metadata": {},
   "source": [
    "Kata:  Numerical Palindrome #4\n",
    "\n",
    " \n",
    "\n",
    "Link: https://www.codewars.com/kata/58df8b4d010a9456140000c7\n",
    "\n",
    "\n",
    "Desc:\n",
    "A palindrome is a word, phrase, number, or other sequence of characters which reads the same backward as forward. Examples of numerical palindromes are:\n",
    "\n",
    "2332\n",
    "110011\n",
    "54322345\n",
    "\n",
    "For a given number num, return its closest numerical palindrome which can either be smaller or larger than num. If there are 2 possible values, the larger value should be returned. If num is a numerical palindrome itself, return it.\n",
    "\n",
    "For this kata, single digit numbers will NOT be considered numerical palindromes.\n",
    "\n",
    "Also, you know the drill - be sure to return \"Not valid\" if the input is not an integer or is less than 0."
   ]
  },
  {
   "cell_type": "code",
   "execution_count": null,
   "metadata": {},
   "outputs": [],
   "source": [
    "def palindrome(num):\n",
    "    #print(num)\n",
    "    if type(num) != int or num<0: return \"Not valid\"\n",
    "    if num in range(13): return 11  \n",
    "    if str(num) == str(num)[::-1]: \n",
    "        return num\n",
    "    abv, bel = num, num\n",
    "    while 1:\n",
    "        if str(abv) == str(abv)[::-1]: return abv\n",
    "        elif str(bel) == str(bel)[::-1]: return bel\n",
    "        else:\n",
    "            abv +=1\n",
    "            bel -=1"
   ]
  },
  {
   "cell_type": "markdown",
   "metadata": {},
   "source": [
    "Kata:  Matrix Transpose\n",
    "\n",
    "\n",
    "Link: https://www.codewars.com/kata/52fba2a9adcd10b34300094c\n",
    "\n",
    "\n",
    "Desc: Write a function that outputs the transpose of a matrix - a new matrix where the columns and rows of the original are swapped."
   ]
  },
  {
   "cell_type": "code",
   "execution_count": null,
   "metadata": {},
   "outputs": [],
   "source": [
    "transpose = lambda matrix:[[matrix[j][i] for j in range(len(matrix))] for i in range(len(matrix[0]))]\n"
   ]
  }
 ],
 "metadata": {
  "language_info": {
   "name": "python"
  },
  "orig_nbformat": 4
 },
 "nbformat": 4,
 "nbformat_minor": 2
}
