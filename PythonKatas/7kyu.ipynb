{
 "cells": [
  {
   "cell_type": "markdown",
   "metadata": {},
   "source": [
    "kata: String ends with? \n",
    "\n",
    "\n",
    "link: https://www.codewars.com/kata/51f2d1cafc9c0f745c00037d\n",
    "\n",
    "\n",
    "Desc:\n",
    "Complete the solution so that it returns true if the first argument(string) passed in ends with the 2nd argument (also a string).\n"
   ]
  },
  {
   "cell_type": "code",
   "execution_count": 1,
   "metadata": {},
   "outputs": [],
   "source": [
    "def solution(string, ending):\n",
    "    return string.endswith(ending)"
   ]
  },
  {
   "cell_type": "markdown",
   "metadata": {},
   "source": [
    "kata: Two to One\n",
    "\n",
    "\n",
    "link: https://www.codewars.com/kata/5656b6906de340bd1b0000ac/train/python\n",
    "\n",
    "\n",
    "Desc: \n",
    "Take 2 strings s1 and s2 including only letters from ato z. Return a new sorted string, the longest possible, containing distinct letters - each taken only once - coming from s1 or s2.\n"
   ]
  },
  {
   "cell_type": "code",
   "execution_count": null,
   "metadata": {},
   "outputs": [],
   "source": [
    "def longest(a1, a2):\n",
    "    letters = 'abcdefghijklmnopqrstuvwxyz'\n",
    "    res = ''\n",
    "    for let in letters:\n",
    "        if let in a1 or let in a2:\n",
    "            res += let\n",
    "    return res"
   ]
  },
  {
   "cell_type": "markdown",
   "metadata": {},
   "source": [
    "kata: Digits explosion\n",
    "\n",
    "\n",
    "link: https://www.codewars.com/kata/585b1fafe08bae9988000314\n",
    "\n",
    "\n",
    "Desc: Given a string made of digits [0-9], return a string where each digit is repeated a number of times equals to its value.\n"
   ]
  },
  {
   "cell_type": "code",
   "execution_count": null,
   "metadata": {},
   "outputs": [],
   "source": [
    "def explode(s):\n",
    "    return ''.join([i*int(i) for i in s])"
   ]
  },
  {
   "cell_type": "markdown",
   "metadata": {},
   "source": [
    "kata: Case Swapping\n",
    "\n",
    "Link: https://www.codewars.com/kata/5590961e6620c0825000008f\n",
    "\n",
    "Desc: Given a string, swap the case for each of the letters.\n",
    "\n"
   ]
  },
  {
   "cell_type": "code",
   "execution_count": 2,
   "metadata": {},
   "outputs": [],
   "source": [
    "def swap(string_):\n",
    "    return string_.swapcase()"
   ]
  },
  {
   "cell_type": "markdown",
   "metadata": {},
   "source": [
    "kata: Previous multiple of three\n",
    "\n",
    "\n",
    "Link: https://www.codewars.com/kata/61123a6f2446320021db987d\n",
    "\n",
    "Desc: Given a positive integer n: 0 < n < 1e6, remove the last digit until you're left with a number that is a multiple of three.\n",
    "\n",
    "Return n if the input is already a multiple of three, and if no such number exists, return null, a similar empty value, or -1."
   ]
  },
  {
   "cell_type": "code",
   "execution_count": null,
   "metadata": {},
   "outputs": [],
   "source": [
    "def prev_mult_of_three(n):\n",
    "    #your solution\n",
    "    while n %3 != 0:\n",
    "        n_str = str(n)\n",
    "        long = len(n_str)-1\n",
    "        n_str = n_str.rsplit(n_str[long],maxsplit=1)[0]\n",
    "        if n_str == '':\n",
    "            return None\n",
    "        else:\n",
    "            n = int(n_str)\n",
    "    \n",
    "    return n"
   ]
  },
  {
   "cell_type": "markdown",
   "metadata": {},
   "source": [
    "kata: Regex validate PIN code\n",
    "\n",
    "\n",
    "Link: https://www.codewars.com/kata/55f8a9c06c018a0d6e000132\n",
    "\n",
    "Desc: ATM machines allow 4 or 6 digit PIN codes and PIN codes cannot contain anything but exactly 4 digits or exactly 6 digits.\n",
    "\n",
    "If the function is passed a valid PIN string, return true, else return false."
   ]
  },
  {
   "cell_type": "code",
   "execution_count": null,
   "metadata": {},
   "outputs": [],
   "source": [
    "import re\n",
    "def validate_pin(pin):\n",
    "    return bool(re.fullmatch(\"^\\d{4}$|\\d{6}\", pin))"
   ]
  },
  {
   "cell_type": "markdown",
   "metadata": {},
   "source": [
    "Kata: Scrolling Text\n",
    "\n",
    "\n",
    "Link: https://www.codewars.com/kata/5a995c2aba1bb57f660001fd\n",
    "\n",
    "Desc:Let's create some scrolling text!\n",
    "\n",
    "Your task is to complete the function which takes a string, and returns an array with all possible rotations of the given string, in uppercase."
   ]
  },
  {
   "cell_type": "code",
   "execution_count": null,
   "metadata": {},
   "outputs": [],
   "source": [
    "def scrolling_text(text):\n",
    "    text = text.upper()\n",
    "    result = [text]\n",
    "    \n",
    "    for i in range(len(text)-1):\n",
    "        first_letter = text[0]\n",
    "        text = text.replace(first_letter, '', 1)+first_letter\n",
    "        result.append(text)\n",
    "    \n",
    "    return result"
   ]
  },
  {
   "cell_type": "markdown",
   "metadata": {},
   "source": [
    "Kata: Counting in the Amazon\n",
    "\n",
    "Link: https://www.codewars.com/kata/55b95c76e08bd5eef100001e\n",
    "\n",
    "Desc: The Arara are an isolated tribe found in the Amazon who count in pairs. For example one to eight is as follows:\n",
    "\n",
    "1 = anane\n",
    "2 = adak\n",
    "3 = adak anane\n",
    "4 = adak adak\n",
    "5 = adak adak anane\n",
    "6 = adak adak adak\n",
    "7 = adak adak adak anane\n",
    "8 = adak adak adak adak\n",
    "\n",
    "Take a given number and return the Arara's equivalent.\n",
    "\n",
    "e.g."
   ]
  },
  {
   "cell_type": "code",
   "execution_count": null,
   "metadata": {},
   "outputs": [],
   "source": [
    "def count_arara(n):\n",
    "    if n%2 == 0:\n",
    "        return ('adak '*int(n/2)).rstrip()\n",
    "    else:\n",
    "        return ('adak '* int((n-1)/2) +'anane').rstrip()"
   ]
  },
  {
   "cell_type": "markdown",
   "metadata": {},
   "source": [
    "Kata: Naughty or Nice?\n",
    "\n",
    "\n",
    "Link: https://www.codewars.com/kata/585eaef9851516fcae00004d\n",
    "\n",
    "Desc:\n",
    "In this kata, you will write a function that receives an array of string and returns a string that is either 'naughty' or 'nice'. Strings that start with the letters b, f, or k are naughty. Strings that start with the letters g, s, or n are nice. Other strings are neither naughty nor nice.\n",
    "\n",
    "If there is an equal amount of bad and good actions, return 'naughty'"
   ]
  },
  {
   "cell_type": "code",
   "execution_count": null,
   "metadata": {},
   "outputs": [],
   "source": [
    "def what_list_am_i_on(actions):\n",
    "    good_actions = [i for i in actions if i[0] in ['g','s','n']]\n",
    "    bad_actions = [i for i in actions if i[0] in ['b','f','k']]\n",
    "    if len(good_actions) > len(bad_actions):\n",
    "        return 'nice'\n",
    "    else:\n",
    "        return 'naughty'"
   ]
  },
  {
   "cell_type": "markdown",
   "metadata": {},
   "source": [
    "Kata: Alien Accent\n",
    "\n",
    "\n",
    "Link: https://www.codewars.com/kata/5874657211d7d6176a00012f\n",
    "\n",
    "Desc: The Story:\n",
    "Aliens from Kepler 27b have immigrated to Earth! They have learned English and go to our stores, eat our food, dress like us, ride Ubers, use Google, etc. However, they speak English a little differently. Can you write a program that converts our English to their Alien English?\n",
    "Task:\n",
    "Write a function converting their speech to ours. They tend to speak the letter a like o and o like a u."
   ]
  },
  {
   "cell_type": "code",
   "execution_count": null,
   "metadata": {},
   "outputs": [],
   "source": [
    "def convert(st):\n",
    "    return st.replace('o','u').replace('a','o')"
   ]
  },
  {
   "cell_type": "markdown",
   "metadata": {},
   "source": [
    "Kata: 80's Kids #2: Help ALF Find His Spaceship\n",
    "\n",
    "\n",
    "Link: https://www.codewars.com/kata/5660aa3d5e011dfd6e000063\n",
    "\n",
    "Desc: Late last night in the Tanner household, ALF was repairing his spaceship so he might get back to Melmac. Unfortunately for him, he forgot to put on the parking brake, and the spaceship took off during repair. Now it's hovering in space.\n",
    "\n",
    "ALF has the technology to bring the spaceship home if he can lock on to its location."
   ]
  },
  {
   "cell_type": "code",
   "execution_count": null,
   "metadata": {},
   "outputs": [],
   "source": [
    "def find_spaceship(astromap):\n",
    "    llista = astromap.split('\\n')\n",
    "    position = \"Spaceship lost forever.\"\n",
    "    for i in range(len(llista)):\n",
    "        if 'X' in llista[i]:\n",
    "            for j in range(len(llista[i])):\n",
    "                if llista[i][j] == 'X':  position = [j,len(llista)-i-1]\n",
    "                   \n",
    "    return position"
   ]
  },
  {
   "cell_type": "markdown",
   "metadata": {},
   "source": [
    "Kata: Test's results\n",
    "\n",
    "\n",
    "Link: https://www.codewars.com/kata/599db0a227ca9f294b0000c8\n",
    "\n",
    "Desc: It's important day today: the class has just had a math test. You will be given a list of marks. Complete the function that will:\n",
    "\n",
    "Calculate the average mark of the whole class and round it to 3 decimal places.\n",
    "Make a dictionary/hash with keys \"h\", \"a\", \"l\" to make clear how many high, average and low marks they got. High marks are 9 & 10, average marks are 7 & 8, and low marks are 1 to 6.\n",
    "Return list [class_average, dictionary] if there are different type of marks, or [class_average, dictionary, \"They did well\"] if there are only high marks."
   ]
  },
  {
   "cell_type": "code",
   "execution_count": null,
   "metadata": {},
   "outputs": [],
   "source": [
    "def test(r):\n",
    "    h = r.count(9)+r.count(10)\n",
    "    a = r.count(7)+r.count(8)\n",
    "    if h == len(r):\n",
    "        return [round(sum(r)/len(r), 3),{'h': h, 'a': a,'l': len(r)-a-h}, \"They did well\"]\n",
    "    else: \n",
    "        return [round(sum(r)/len(r), 3),{'h': h, 'a': a,'l': len(r)-a-h}]"
   ]
  },
  {
   "cell_type": "markdown",
   "metadata": {},
   "source": [
    "Kata: Deodorant Evaporator\n",
    "\n",
    "\n",
    "Link: https://www.codewars.com/kata/5506b230a11c0aeab3000c1f\n",
    "\n",
    "Desc:This program tests the life of an evaporator containing a gas.\n",
    "\n",
    "We know the content of the evaporator (content in ml), the percentage of foam or gas lost every day (evap_per_day) and the threshold (threshold) in percentage beyond which the evaporator is no longer useful. All numbers are strictly positive.\n",
    "\n",
    "The program reports the nth day (as an integer) on which the evaporator will be out of use.\n",
    "\n",
    "Example:\n",
    "evaporator(10, 10, 5) -> 29"
   ]
  },
  {
   "cell_type": "code",
   "execution_count": null,
   "metadata": {},
   "outputs": [],
   "source": [
    "def evaporator(content, evap_per_day, threshold):\n",
    "    use = True\n",
    "    day = 0\n",
    "    or_cont = content\n",
    "    while use == True:\n",
    "        day += 1\n",
    "        content -= content*(evap_per_day/100)\n",
    "        if content/or_cont < threshold/100:\n",
    "            use =False\n",
    "    return day"
   ]
  },
  {
   "cell_type": "markdown",
   "metadata": {},
   "source": [
    "Kata: User class for Banking System\n",
    "\n",
    "\n",
    "Link: https://www.codewars.com/kata/5a03af9606d5b65ff7000009\n",
    "\n",
    "Desc:A company is opening a bank, but the coder who is designing the user class made some errors. They need you to help them.\n",
    "\n",
    "You must include the following:\n",
    "Note: These are NOT steps to code the class\n",
    "\n",
    "A withdraw method\n",
    "Subtracts money from balance\n",
    "One parameter, money to withdraw\n",
    "Raise a ValueError if there isn't enough money to withdraw\n",
    "Return a string with name and balance(see examples)\n",
    "A check method\n",
    "Adds money to balance\n",
    "Two parameters, other user and money\n",
    "Other user will always be valid\n",
    "Raise a ValueError if other user doesn't have enough money\n",
    "Raise a ValueError if checking_account isn't true for other user\n",
    "Return a string with name and balance plus other name and other balance(see examples)\n",
    "An add_cash method\n",
    "Adds money to balance\n",
    "One parameter, money to add\n",
    "Return a string with name and balance(see examples)\n",
    "Additional Notes:\n",
    "\n",
    "Checking_account should be stored as a boolean\n",
    "No input numbers will be negative\n",
    "Output must end with a period\n",
    "Float numbers will not be used so, balance should be integer\n",
    "No currency will be used"
   ]
  },
  {
   "cell_type": "code",
   "execution_count": null,
   "metadata": {},
   "outputs": [],
   "source": [
    "class User(object):\n",
    "\n",
    "    def __init__(self, name, balance, checking_account):\n",
    "        self.name = name\n",
    "        self.balance = balance\n",
    "        self.checking_account = checking_account\n",
    "    def withdraw(self, money):\n",
    "        if self.balance < money:\n",
    "            raise ValueError\n",
    "        else:\n",
    "            self.balance -= money\n",
    "            return f\"{self.name} has {self.balance}.\"\n",
    "    def check(self,user, money):\n",
    "        if user.balance < money or user.checking_account != True:\n",
    "            raise ValueError\n",
    "        self.balance += money\n",
    "        user.withdraw(money)\n",
    "        return f'{self.name} has {self.balance} and {user.name} has {user.balance}.'\n",
    "    def add_cash(self, money):\n",
    "        self.balance += money\n",
    "        return f\"{self.name} has {self.balance}.\""
   ]
  },
  {
   "cell_type": "markdown",
   "metadata": {},
   "source": [
    "Kata: See You Next Happy Year\n",
    "\n",
    "\n",
    "Link:https://www.codewars.com/kata/5ae7e3f068e6445bc8000046\n",
    "\n",
    "Desc:Scenario\n",
    "You're saying good-bye your best friend , See you next happy year .\n",
    "\n",
    "Happy Year is the year with only distinct digits , (e.g) 2018\n",
    "\n",
    "Task\n",
    "Given a year, Find The next happy year or The closest year You'll see your best friend!alt!alt\n",
    "\n",
    "Notes\n",
    "Year Of Course always Positive .\n",
    "Have no fear , It is guaranteed that the answer exists .\n",
    "It's not necessary that the year passed to the function is Happy one .\n",
    "Input Year with in range (1000  ≤  y  ≤  9000)"
   ]
  },
  {
   "cell_type": "code",
   "execution_count": null,
   "metadata": {},
   "outputs": [],
   "source": [
    "def next_happy_year(year):\n",
    "    condition = False\n",
    "    while condition == False:\n",
    "        year += 1\n",
    "        a = str(year)\n",
    "        b=0\n",
    "        for el in a: \n",
    "            b += a.count(el)\n",
    "        if b == len(a):\n",
    "            condition = True\n",
    "    return year"
   ]
  },
  {
   "cell_type": "markdown",
   "metadata": {},
   "source": [
    "Kata: Basic JS - Calculating averages\n",
    "\n",
    "Link: https://www.codewars.com/kata/529f32794a6db5d32a00071f\n",
    "\n",
    "Desc:Let's build a calculator that can calculate the average for an arbitrary number of arguments.\n",
    "\n",
    "The test expects you to provide a Calculator object with an average method:\n",
    "\n",
    "Calculator.average()\n",
    "The test also expects that when you pass no arguments, it returns 0. The arguments are expected to be integers.\n",
    "\n",
    "It expects Calculator.average(3,4,5) to return 4."
   ]
  },
  {
   "cell_type": "code",
   "execution_count": null,
   "metadata": {},
   "outputs": [],
   "source": [
    "class Calculator:\n",
    "    @staticmethod\n",
    "    def average(*args):\n",
    "        lista = [i for i in args]\n",
    "        if lista != []:\n",
    "            return sum(lista)/(len(lista))\n",
    "        else:\n",
    "            return 0\n",
    "        "
   ]
  },
  {
   "cell_type": "markdown",
   "metadata": {},
   "source": [
    "Kata: Ones' Complement\n",
    "\n",
    "\n",
    "Link: https://www.codewars.com/kata/59b11f57f322e5da45000254\n",
    "\n",
    "Desc:The Ones' Complement of a binary number is the number obtained by swapping all the 0s for 1s and all the 1s for 0s. For example:\n",
    "\n",
    "ones_complement(1001) = 0110\n",
    "ones_complement(1001) = 0110\n",
    "For any given binary number,formatted as a string, return the Ones' Complement of that number."
   ]
  },
  {
   "cell_type": "code",
   "execution_count": null,
   "metadata": {},
   "outputs": [],
   "source": [
    "def ones_complement(bn):\n",
    "    return ''.join(['0' if i == '1' else '1' for i in str(bn)])"
   ]
  },
  {
   "cell_type": "markdown",
   "metadata": {},
   "source": [
    "Kata: Check the exam\n",
    "\n",
    "\n",
    "Link: https://www.codewars.com/kata/5a3dd29055519e23ec000074\n",
    "\n",
    "Desc:The first input array is the key to the correct answers to an exam, like [\"a\", \"a\", \"b\", \"d\"]. The second one contains a student's submitted answers.\n",
    "\n",
    "The two arrays are not empty and are the same length. Return the score for this array of answers, giving +4 for each correct answer, -1 for each incorrect answer, and +0 for each blank answer, represented as an empty string (in C the space character is used).\n",
    "\n",
    "If the score < 0, return 0."
   ]
  },
  {
   "cell_type": "code",
   "execution_count": null,
   "metadata": {},
   "outputs": [],
   "source": [
    "def check_exam(arr1,arr2):\n",
    "    a, b = 0,0\n",
    "    for i in range(0,len(arr1)):\n",
    "        if arr1[i] == arr2[i]: a+=1\n",
    "        elif arr1[i] != arr2[i] and arr2[i] != \"\": b+=1\n",
    "    return max(0,a*4-b)\n",
    "  "
   ]
  },
  {
   "cell_type": "markdown",
   "metadata": {},
   "source": [
    "Kata: Scaling Squared Strings\n",
    "\n",
    "Link: https://www.codewars.com/kata/56ed20a2c4e5d69155000301\n",
    "\n",
    "Desc: You are given a string of n lines, each substring being n characters long. For example:\n",
    "\n",
    "s = \"abcd\\nefgh\\nijkl\\nmnop\"\n",
    "\n",
    "We will study the \"horizontal\" and the \"vertical\" scaling of this square of strings.\n",
    "\n",
    "A k-horizontal scaling of a string consists of replicating k times each character of the string (except '\\n').\n",
    "\n",
    "Example: 2-horizontal scaling of s: => \"aabbccdd\\neeffgghh\\niijjkkll\\nmmnnoopp\"\n",
    "A v-vertical scaling of a string consists of replicating v times each part of the squared string.\n",
    "\n",
    "Example: 2-vertical scaling of s: => \"abcd\\nabcd\\nefgh\\nefgh\\nijkl\\nijkl\\nmnop\\nmnop\"\n",
    "Function scale(strng, k, v) will perform a k-horizontal scaling and a v-vertical scaling."
   ]
  },
  {
   "cell_type": "code",
   "execution_count": null,
   "metadata": {},
   "outputs": [],
   "source": [
    "def scale(strng, k, v):\n",
    "    if strng == '': return ''\n",
    "    else:\n",
    "        lista = strng.split('\\n')\n",
    "        for i in range(len(lista)):\n",
    "            dup = ''\n",
    "            for char in lista[i]: dup += char*k\n",
    "            lista[i] = dup\n",
    "        return '\\n'.join([lista[i//v] for i in range(len(lista)*v)])"
   ]
  },
  {
   "cell_type": "markdown",
   "metadata": {},
   "source": [
    "Kata: Vowel Count\n",
    "\n",
    "\n",
    "Link:  https://www.codewars.com/kata/54ff3102c1bad923760001f3\n",
    "\n",
    "Desc:Return the number (count) of vowels in the given string.\n",
    "\n",
    "We will consider a, e, i, o, u as vowels for this Kata (but not y).\n",
    "\n",
    "The input string will only consist of lower case letters and/or spaces."
   ]
  },
  {
   "cell_type": "code",
   "execution_count": null,
   "metadata": {},
   "outputs": [],
   "source": [
    "def get_count(s):\n",
    "    return sum(s.count(i) for i in ['a','e','i','o','u'])"
   ]
  },
  {
   "cell_type": "markdown",
   "metadata": {},
   "source": [
    "Kata: last digits of a number\n",
    "\n",
    "Link: https://www.codewars.com/kata/5cd5ba1ce4471a00256930c0\n",
    "\n",
    "Desc: Your job is to implement a function which returns the last D digits of an integer N as a list.\n",
    "\n",
    "Special cases:\n",
    "If D > (the number of digits of N), return all the digits.\n",
    "If D <= 0, return an empty list."
   ]
  },
  {
   "cell_type": "code",
   "execution_count": null,
   "metadata": {},
   "outputs": [],
   "source": [
    "def solution(n,d):\n",
    "    \n",
    "    if d<len([int(i) for i in str(n)]) and d>0:\n",
    "        return [int(i) for i in str(n)][-d:] \n",
    "    elif d>=len([int(i) for i in str(n)]):\n",
    "        return [int(i) for i in str(n)] \n",
    "    else:\n",
    "        return []"
   ]
  },
  {
   "cell_type": "markdown",
   "metadata": {},
   "source": [
    "Kata: Robinson Crusoe\n",
    "\n",
    "Link: https://www.codewars.com/kata/5d95b7644a336600271f52ba\n",
    "\n",
    "Desc: Robinson Crusoe decides to explore his isle. On a sheet of paper he plans the following process.\n",
    "\n",
    "His hut has coordinates origin = [0, 0]. From that origin he walks a given distance d on a line that has a given angle ang with the x-axis. He gets to a point A. (Angles are measured with respect to the x-axis)\n",
    "\n",
    "From that point A he walks the distance d multiplied by a constant distmult on a line that has the angle ang multiplied by a constant angmult and so on and on.\n",
    "\n",
    "We have d0 = d, ang0 = ang; then d1 = d * distmult, ang1 = ang * angmult etc ...\n",
    "\n",
    "Let us suppose he follows this process n times. What are the coordinates lastx, lasty of the last point?\n",
    "\n",
    "The function crusoe has parameters;\n",
    "\n",
    "n : numbers of steps in the process\n",
    "d : initial chosen distance\n",
    "ang : initial chosen angle in degrees\n",
    "distmult : constant multiplier of the previous distance\n",
    "angmult : constant multiplier of the previous angle\n",
    "crusoe(n, d, ang, distmult, angmult) should return lastx, lasty as an array or a tuple depending on the language."
   ]
  },
  {
   "cell_type": "code",
   "execution_count": null,
   "metadata": {},
   "outputs": [],
   "source": [
    "import numpy as np\n",
    "def crusoe(n, d, ang, dist_mult, ang_mult):\n",
    "    lastx, lasty = 0,0\n",
    "    ang = np.radians(ang)\n",
    "    for i in range(n):\n",
    "        #print(lastx, lasty,d, ang*360/(2*np.pi))\n",
    "        lastx += d*np.cos(ang)\n",
    "        lasty += d*np.sin(ang)\n",
    "        d *= dist_mult\n",
    "        ang *= ang_mult\n",
    "    return lastx, lasty"
   ]
  },
  {
   "cell_type": "markdown",
   "metadata": {},
   "source": [
    "Kata: How Green Is My Valley?\n",
    "\n",
    "Link: https://www.codewars.com/kata/56e3cd1d93c3d940e50006a4\n",
    "\n",
    "Desc:Input : an array of integers.\n",
    "\n",
    "Output : this array, but sorted in such a way that there are two wings:\n",
    "\n",
    "the left wing with numbers decreasing,\n",
    "\n",
    "the right wing with numbers increasing.\n",
    "\n",
    "the two wings have the same length. If the length of the array is odd the wings are around the bottom, if the length is even the bottom is considered to be part of the right wing.\n",
    "\n",
    "each integer l of the left wing must be greater or equal to its counterpart r in the right wing, the difference l - r being as small as possible. In other words the right wing must be nearly as steep as the left wing.\n",
    "\n",
    "The function is make_valley or makeValley or make-valley."
   ]
  },
  {
   "cell_type": "code",
   "execution_count": null,
   "metadata": {},
   "outputs": [],
   "source": [
    "def sort(arr):\n",
    "    sorted = []\n",
    "    for i in range(len(arr)):\n",
    "        sorted.append(min(arr))\n",
    "        arr.remove(min(arr))\n",
    "    return sorted\n",
    "def make_valley(arr):\n",
    "    sorted, res = sort(arr), []\n",
    "    if len(sorted)%2:\n",
    "        for i in range(len(sorted)):\n",
    "            if i%2:\n",
    "                res.append(sorted[i])\n",
    "            else:\n",
    "                res.insert(0, sorted[i])\n",
    "    else: \n",
    "        for i in range(len(sorted)):\n",
    "            if i%2 == 0:\n",
    "                res.append(sorted[i])\n",
    "            else:\n",
    "                res.insert(0, sorted[i])"
   ]
  }
 ],
 "metadata": {
  "interpreter": {
   "hash": "916dbcbb3f70747c44a77c7bcd40155683ae19c65e1c03b4aa3499c5328201f1"
  },
  "kernelspec": {
   "display_name": "Python 3.8.10 64-bit",
   "language": "python",
   "name": "python3"
  },
  "language_info": {
   "codemirror_mode": {
    "name": "ipython",
    "version": 3
   },
   "file_extension": ".py",
   "mimetype": "text/x-python",
   "name": "python",
   "nbconvert_exporter": "python",
   "pygments_lexer": "ipython3",
   "version": "3.8.10"
  },
  "orig_nbformat": 4
 },
 "nbformat": 4,
 "nbformat_minor": 2
}
